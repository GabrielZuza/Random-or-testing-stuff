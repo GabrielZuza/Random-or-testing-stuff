{
  "nbformat": 4,
  "nbformat_minor": 0,
  "metadata": {
    "kernelspec": {
      "display_name": "Python 3",
      "language": "python",
      "name": "python3"
    },
    "language_info": {
      "codemirror_mode": {
        "name": "ipython",
        "version": 3
      },
      "file_extension": ".py",
      "mimetype": "text/x-python",
      "name": "python",
      "nbconvert_exporter": "python",
      "pygments_lexer": "ipython3",
      "version": "3.7.3"
    },
    "colab": {
      "name": "Moderna_2.ipynb",
      "provenance": [],
      "include_colab_link": true
    }
  },
  "cells": [
    {
      "cell_type": "markdown",
      "metadata": {
        "id": "view-in-github",
        "colab_type": "text"
      },
      "source": [
        "<a href=\"https://colab.research.google.com/github/GabrielZuza/Zuza/blob/master/Orbitais.ipynb\" target=\"_parent\"><img src=\"https://colab.research.google.com/assets/colab-badge.svg\" alt=\"Open In Colab\"/></a>"
      ]
    },
    {
      "cell_type": "markdown",
      "metadata": {
        "id": "FBv1gpf7a6m5"
      },
      "source": [
        "# Representação eletrônica para o átomo de hidrogênio\n",
        "* Gabriel Zuza \n"
      ]
    },
    {
      "cell_type": "markdown",
      "metadata": {
        "id": "fEBpNQ1Ca6m6"
      },
      "source": [
        "## Importando bibliotecas e declarando constantes:"
      ]
    },
    {
      "cell_type": "code",
      "metadata": {
        "id": "YnSABv_2a6m7"
      },
      "source": [
        "import numpy as np\n",
        "import matplotlib.pyplot as plt\n",
        "import matplotlib\n",
        "from mpl_toolkits.mplot3d import Axes3D\n",
        "from matplotlib import cm\n",
        "from scipy import special as sp\n",
        "import scipy.linalg as scl\n",
        "from scipy import constants as cs\n",
        "from matplotlib import cm\n",
        "from math import ceil\n",
        "\n",
        "mr = cs.m_e*cs.m_p/(cs.m_p + cs.m_e)"
      ],
      "execution_count": null,
      "outputs": []
    },
    {
      "cell_type": "markdown",
      "metadata": {
        "id": "wIzqoAM2a6m-"
      },
      "source": [
        "## Obtendo a configuração eletrônica:"
      ]
    },
    {
      "cell_type": "markdown",
      "metadata": {
        "id": "hn0itHnKa6m-"
      },
      "source": [
        "* Para l =0:"
      ]
    },
    {
      "cell_type": "code",
      "metadata": {
        "id": "EI_ggdlka6m-"
      },
      "source": [
        "l = 0"
      ],
      "execution_count": null,
      "outputs": []
    },
    {
      "cell_type": "code",
      "metadata": {
        "scrolled": false,
        "id": "O_6zcetma6nB"
      },
      "source": [
        "save_folder = 'imagens'\n",
        "if (l==0): \n",
        "    fig = plt.figure(figsize=(9,9))\n",
        "    ax = fig.gca(projection='3d')\n",
        "    n=1\n",
        "    m = n-1\n",
        "\n",
        "    theta_list, phi_list = np.linspace(0, 2 * np.pi, 360), np.linspace(0, np.pi, 360)\n",
        "    theta, phi = np.meshgrid(theta_list, phi_list)\n",
        "    R = (((-1)**m)*np.sqrt((2*l+1)*np.math.factorial(l-m)/(4*np.pi*np.math.factorial(m+l)))*sp.lpmv(m,l,np.cos(theta)))**2\n",
        "\n",
        "    X = R * np.sin(theta) * np.cos(phi)\n",
        "    Y = R * np.sin(theta) * np.sin(phi)\n",
        "    Z = R * np.cos(theta)\n",
        "\n",
        "    ax.plot_surface(X, Y, Z,cmap=cm.winter)\n",
        "\n",
        "    title = ' l='+str(l)+' m='+str(m)\n",
        "    ax.set_title(title, fontsize=28)\n",
        "    ax.grid(False)\n",
        "    ax.set_xticks([])\n",
        "    ax.set_yticks([])\n",
        "    ax.set_zticks([])\n",
        "    ax.set_axis_off()\n",
        "\n",
        "\n",
        "for n in range(0, 90):\n",
        "    ax.elev = ax.elev - 2\n",
        "    ax.azim = ax.azim + 2.5\n",
        "    #plt.savefig('{}/img{:03d}.png'.format(save_folder, n), bbox_inches='tight',dpi=300)"
      ],
      "execution_count": null,
      "outputs": []
    },
    {
      "cell_type": "markdown",
      "metadata": {
        "id": "UqfJA2PQa7zL"
      },
      "source": [
        "![texto do link](https://media0.giphy.com/media/zVsKPtoToencqm0Olw/giphy.gif)"
      ]
    },
    {
      "cell_type": "markdown",
      "metadata": {
        "id": "QY19Q7kYa6nD"
      },
      "source": [
        "## Obtendo a configuração eletrônica:"
      ]
    },
    {
      "cell_type": "markdown",
      "metadata": {
        "id": "GWZ0OQ1Ha6nE"
      },
      "source": [
        "* Para l = 1:\n",
        "repetiremos praticamente o mesmo procedimento, mas faremos vetores de axis para plotar com a função subplot:"
      ]
    },
    {
      "cell_type": "code",
      "metadata": {
        "id": "GnzJAid7a6nE"
      },
      "source": [
        "l = 1"
      ],
      "execution_count": null,
      "outputs": []
    },
    {
      "cell_type": "code",
      "metadata": {
        "id": "hq69ysv8a6nG"
      },
      "source": [
        "if (l==1):\n",
        "    f, ax = plt.subplots(1,2, subplot_kw=dict(projection='3d'), figsize=(16,9))\n",
        "    \n",
        "    for n in range(1,l+2):    \n",
        "        m = n-1\n",
        "        theta_list, phi_list = np.linspace(0, 2 * np.pi, 360), np.linspace(0, np.pi, 360)\n",
        "        theta, phi = np.meshgrid(theta_list, phi_list)\n",
        "        R = (((-1)**m)*np.sqrt((2*l+1)*np.math.factorial(l-m)/(4*np.pi*np.math.factorial(m+l)))*sp.lpmv(m,l,np.cos(theta)))**2\n",
        "\n",
        "        X = R * np.sin(theta) * np.cos(phi)\n",
        "        Y = R * np.sin(theta) * np.sin(phi)\n",
        "        Z = R * np.cos(theta)\n",
        "\n",
        "        ax[m].plot_surface(X, Y, Z,cmap=cm.winter)\n",
        "        title = ' l='+str(l)+' m='+str(m)\n",
        "        ax[m].set_title(title, fontsize=28)\n",
        "        ax[m].grid(False)\n",
        "        ax[m].set_xticks([])\n",
        "        ax[m].set_yticks([])\n",
        "        ax[m].set_zticks([])\n",
        "        ax[m].set_axis_off()\n",
        "\n",
        "for n in range(0, 90):\n",
        "    ax[0].elev = ax[0].elev - 2\n",
        "    ax[0].azim = ax[0].azim + 2.5\n",
        "    ax[1].elev = ax[1].elev - 2\n",
        "    ax[1].azim = ax[1].azim + 2.5\n",
        "    #plt.savefig('{}/2img{:03d}.png'.format(save_folder, n), bbox_inches='tight',dpi=300)"
      ],
      "execution_count": null,
      "outputs": []
    },
    {
      "cell_type": "markdown",
      "metadata": {
        "id": "LzqSojPGbA5t"
      },
      "source": [
        "![texto do link](https://media4.giphy.com/media/NfMRArfDvntCZIAvQO/giphy.gif)"
      ]
    },
    {
      "cell_type": "markdown",
      "metadata": {
        "id": "_fUh_9z7a6nI"
      },
      "source": [
        "## Obtendo a configuração eletrônica:"
      ]
    },
    {
      "cell_type": "markdown",
      "metadata": {
        "id": "I5ImXAaia6nJ"
      },
      "source": [
        "* Para l $\\geq$ 2:\n",
        "repetiremos praticamente o mesmo procedimento, mas dessa vez será necessário fazer matrizes para os eixos, generalizando para qualquer valor de l $\\geq$ 2:"
      ]
    },
    {
      "cell_type": "code",
      "metadata": {
        "id": "PaMANmTWa6nK"
      },
      "source": [
        "l = 5"
      ],
      "execution_count": null,
      "outputs": []
    },
    {
      "cell_type": "code",
      "metadata": {
        "id": "HRpdoUq0a6nN"
      },
      "source": [
        "#%matplotlib inline"
      ],
      "execution_count": null,
      "outputs": []
    },
    {
      "cell_type": "code",
      "metadata": {
        "id": "SCf1mluCa6nO"
      },
      "source": [
        "_, ax = plt.subplots(2,ceil((l+1)/2), subplot_kw=dict(projection='3d'), figsize=(11,14))\n",
        "\n",
        "if ((l+1)%2 != False): \n",
        "    ax[1,ceil((l+1)/2)-1].grid(False)\n",
        "    ax[1,ceil((l+1)/2)-1].set_xticks([])\n",
        "    ax[1,ceil((l+1)/2)-1].set_yticks([])\n",
        "    ax[1,ceil((l+1)/2)-1].set_zticks([])\n",
        "    ax[1,ceil((l+1)/2)-1].set_axis_off()\n",
        "\n",
        "\n",
        "for n in range(1,l+2):      \n",
        "    m = n-1\n",
        "\n",
        "    theta_list, phi_list = np.linspace(0, 2 * np.pi, 360), np.linspace(0, np.pi, 360)\n",
        "    theta, phi = np.meshgrid(theta_list, phi_list)\n",
        "    R = (((-1)**m)*np.sqrt((2*l+1)*np.math.factorial(l-m)/(4*np.pi*np.math.factorial(m+l)))*sp.lpmv(m,l,np.cos(theta)))**2\n",
        "\n",
        "    X = R * np.sin(theta) * np.cos(phi)\n",
        "    Y = R * np.sin(theta) * np.sin(phi)\n",
        "    Z = R * np.cos(theta)\n",
        "\n",
        "    if (m < ceil((l+1)/2)):\n",
        "\n",
        "        ax[0,m].plot_surface(X, Y, Z,cmap=cm.winter)\n",
        "        title = ' l='+str(l)+' m='+str(m)\n",
        "        ax[0,m].set_title(title, fontsize=28)\n",
        "        ax[0,m].grid(False)\n",
        "        ax[0,m].set_xticks([])\n",
        "        ax[0,m].set_yticks([])\n",
        "        ax[0,m].set_zticks([])\n",
        "        ax[0,m].set_axis_off()\n",
        "\n",
        "    else:\n",
        "      \n",
        "        ax[1,m - ceil((l+1)/2)].plot_surface(X, Y, Z,cmap=cm.winter)\n",
        "        title = ' l='+str(l)+' m='+str(m)\n",
        "        ax[1,m - ceil((l+1)/2)].set_title(title, fontsize=28)\n",
        "        ax[1,m - ceil((l+1)/2)].grid(False)\n",
        "        ax[1,m - ceil((l+1)/2)].set_xticks([])\n",
        "        ax[1,m - ceil((l+1)/2)].set_yticks([])\n",
        "        ax[1,m - ceil((l+1)/2)].set_zticks([])\n",
        "        ax[1,m - ceil((l+1)/2)].set_axis_off()\n",
        "\n",
        "    \n",
        "for n in range(0, 200):\n",
        "    for k in range(m-2):\n",
        "        ax[0,k].elev = (ax[0,k].elev - 0.7)\n",
        "        #ax[0,k].azim = ax[0,k].azim + 2.5\n",
        "        ax[1,k - ceil((l+1)/2)].elev = ax[1,k - ceil((l+1)/2)].elev - 0.7\n",
        "        #ax[1,k - ceil((l+1)/2)].azim = ax[1,k - ceil((l+1)/2)].azim + 2.5\n",
        "    #plt.savefig('{}/3img{:03d}.png'.format(save_folder, n), bbox_inches='tight',dpi=300)     \n"
      ],
      "execution_count": null,
      "outputs": []
    },
    {
      "cell_type": "markdown",
      "metadata": {
        "id": "7VtoNmZlbJGb"
      },
      "source": [
        "![texto do link](https://media1.giphy.com/media/QtZR5vy9JFRAazIZHl/giphy.gif)"
      ]
    }
  ]
}